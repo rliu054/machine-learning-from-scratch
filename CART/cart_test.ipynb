{
 "cells": [
  {
   "cell_type": "code",
   "execution_count": 9,
   "metadata": {
    "collapsed": true
   },
   "outputs": [
    {
     "name": "stdout",
     "output_type": "stream",
     "text": [
      "[[0. 1. 0. 0.]] [[1. 0. 0. 0.]\n [0. 0. 1. 0.]\n [0. 0. 0. 1.]]\n"
     ]
    }
   ],
   "source": [
    "%matplotlib inline\n",
    "from importlib import *\n",
    "import numpy as np\n",
    "from CART import cart\n",
    "\n",
    "reload(cart)\n",
    "\n",
    "test_mat = np.mat(np.eye(4))\n",
    "mat0, mat1 = cart.bi_split_data_set(test_mat, 1, 0.5)\n",
    "print(mat0, mat1)"
   ]
  },
  {
   "cell_type": "code",
   "execution_count": 7,
   "metadata": {},
   "outputs": [
    {
     "data": {
      "text/plain": [
       "matrix([[1., 0., 0., 0.],\n        [0., 1., 0., 0.],\n        [0., 0., 1., 0.],\n        [0., 0., 0., 1.]])"
      ]
     },
     "execution_count": 7,
     "metadata": {},
     "output_type": "execute_result"
    }
   ],
   "source": [
    "np.mat(np.eye(4))"
   ]
  },
  {
   "cell_type": "code",
   "execution_count": 26,
   "metadata": {},
   "outputs": [
    {
     "data": {
      "text/plain": [
       "{'sp_idx': 0,\n 'sp_val': 0.48813,\n 'left': 1.0180967672413792,\n 'right': -0.04465028571428572}"
      ]
     },
     "execution_count": 26,
     "metadata": {},
     "output_type": "execute_result"
    }
   ],
   "source": [
    "%matplotlib inline\n",
    "from importlib import *\n",
    "import numpy as np\n",
    "from CART import cart\n",
    "\n",
    "reload(cart)\n",
    "\n",
    "my_dat = cart.load_data_set('Data/ex00.txt')\n",
    "my_mat = np.mat(my_dat)\n",
    "cart.create_tree(my_mat)"
   ]
  },
  {
   "cell_type": "code",
   "execution_count": 27,
   "metadata": {},
   "outputs": [
    {
     "data": {
      "text/plain": [
       "{'sp_idx': 1,\n 'sp_val': 0.39435,\n 'left': {'sp_idx': 1,\n  'sp_val': 0.582002,\n  'left': {'sp_idx': 1,\n   'sp_val': 0.797583,\n   'left': 3.9871632,\n   'right': 2.9836209534883724},\n  'right': 1.980035071428571},\n 'right': {'sp_idx': 1,\n  'sp_val': 0.197834,\n  'left': 1.0289583666666666,\n  'right': -0.023838155555555553}}"
      ]
     },
     "execution_count": 27,
     "metadata": {},
     "output_type": "execute_result"
    }
   ],
   "source": [
    "my_dat1 = cart.load_data_set('Data/ex0.txt')\n",
    "my_mat1 = np.mat(my_dat1)\n",
    "cart.create_tree(my_mat1)"
   ]
  },
  {
   "cell_type": "code",
   "execution_count": 28,
   "metadata": {},
   "outputs": [
    {
     "data": {
      "text/plain": [
       "{'sp_idx': 0,\n 'sp_val': 0.499171,\n 'left': {'sp_idx': 0,\n  'sp_val': 0.729397,\n  'left': {'sp_idx': 0,\n   'sp_val': 0.952833,\n   'left': {'sp_idx': 0,\n    'sp_val': 0.958512,\n    'left': 105.24862350000001,\n    'right': 112.42895575000001},\n   'right': {'sp_idx': 0,\n    'sp_val': 0.759504,\n    'left': {'sp_idx': 0,\n     'sp_val': 0.790312,\n     'left': {'sp_idx': 0,\n      'sp_val': 0.833026,\n      'left': {'sp_idx': 0,\n       'sp_val': 0.944221,\n       'left': 87.3103875,\n       'right': {'sp_idx': 0,\n        'sp_val': 0.85497,\n        'left': {'sp_idx': 0,\n         'sp_val': 0.910975,\n         'left': 96.452867,\n         'right': {'sp_idx': 0,\n          'sp_val': 0.892999,\n          'left': 104.825409,\n          'right': {'sp_idx': 0,\n           'sp_val': 0.872883,\n           'left': 95.181793,\n           'right': 102.25234449999999}}},\n        'right': 95.27584316666666}},\n      'right': {'sp_idx': 0,\n       'sp_val': 0.811602,\n       'left': 81.110152,\n       'right': 88.78449880000001}},\n     'right': 102.35780185714285},\n    'right': 78.08564325}},\n  'right': {'sp_idx': 0,\n   'sp_val': 0.640515,\n   'left': {'sp_idx': 0,\n    'sp_val': 0.666452,\n    'left': {'sp_idx': 0,\n     'sp_val': 0.706961,\n     'left': 114.554706,\n     'right': {'sp_idx': 0,\n      'sp_val': 0.698472,\n      'left': 104.82495374999999,\n      'right': 108.92921799999999}},\n    'right': 114.1516242857143},\n   'right': {'sp_idx': 0,\n    'sp_val': 0.613004,\n    'left': 93.67344971428572,\n    'right': {'sp_idx': 0,\n     'sp_val': 0.582311,\n     'left': 123.2101316,\n     'right': {'sp_idx': 0,\n      'sp_val': 0.553797,\n      'left': 97.20018024999999,\n      'right': {'sp_idx': 0,\n       'sp_val': 0.51915,\n       'left': {'sp_idx': 0,\n        'sp_val': 0.543843,\n        'left': 109.38961049999999,\n        'right': 110.979946},\n       'right': 101.73699325000001}}}}}},\n 'right': {'sp_idx': 0,\n  'sp_val': 0.457563,\n  'left': {'sp_idx': 0,\n   'sp_val': 0.467383,\n   'left': 12.50675925,\n   'right': 3.4331330000000007},\n  'right': {'sp_idx': 0,\n   'sp_val': 0.126833,\n   'left': {'sp_idx': 0,\n    'sp_val': 0.373501,\n    'left': {'sp_idx': 0,\n     'sp_val': 0.437652,\n     'left': -12.558604833333334,\n     'right': {'sp_idx': 0,\n      'sp_val': 0.412516,\n      'left': 14.38417875,\n      'right': {'sp_idx': 0,\n       'sp_val': 0.385021,\n       'left': -0.8923554999999995,\n       'right': 3.6584772500000016}}},\n    'right': {'sp_idx': 0,\n     'sp_val': 0.335182,\n     'left': {'sp_idx': 0,\n      'sp_val': 0.350725,\n      'left': -15.08511175,\n      'right': -22.693879600000002},\n     'right': {'sp_idx': 0,\n      'sp_val': 0.324274,\n      'left': 15.05929075,\n      'right': {'sp_idx': 0,\n       'sp_val': 0.297107,\n       'left': -19.9941552,\n       'right': {'sp_idx': 0,\n        'sp_val': 0.166765,\n        'left': {'sp_idx': 0,\n         'sp_val': 0.202161,\n         'left': {'sp_idx': 0,\n          'sp_val': 0.217214,\n          'left': {'sp_idx': 0,\n           'sp_val': 0.228473,\n           'left': {'sp_idx': 0,\n            'sp_val': 0.25807,\n            'left': 0.40377471428571476,\n            'right': -13.070501},\n           'right': 6.770429},\n          'right': -11.822278500000001},\n         'right': 3.4496025},\n        'right': {'sp_idx': 0,\n         'sp_val': 0.156067,\n         'left': -12.1079725,\n         'right': -6.247900000000001}}}}}},\n   'right': {'sp_idx': 0,\n    'sp_val': 0.084661,\n    'left': 6.509843285714284,\n    'right': {'sp_idx': 0,\n     'sp_val': 0.044737,\n     'left': -2.544392714285715,\n     'right': 4.091626}}}}}"
      ]
     },
     "execution_count": 28,
     "metadata": {},
     "output_type": "execute_result"
    }
   ],
   "source": [
    "my_dat2 = cart.load_data_set('Data/ex2.txt')\n",
    "my_mat2 = np.mat(my_dat2)\n",
    "cart.create_tree(my_mat2)"
   ]
  },
  {
   "cell_type": "code",
   "execution_count": 32,
   "metadata": {
    "collapsed": false
   },
   "outputs": [
    {
     "name": "stdout",
     "output_type": "stream",
     "text": [
      "merging\nmerging\nmerging\nmerging\nmerging\nmerging\nmerging\nmerging\nmerging\nmerging\nmerging\nmerging\nmerging\nmerging\nmerging\nmerging\nmerging\nmerging\nmerging\nmerging\nmerging\nmerging\nmerging\nmerging\nmerging\nmerging\nmerging\nmerging\nmerging\nmerging\nmerging\nmerging\nmerging\nmerging\nmerging\nmerging\nmerging\nmerging\nmerging\nmerging\nmerging\nmerging\nmerging\nmerging\n{'sp_idx': 0, 'sp_val': 0.499171, 'left': {'sp_idx': 0, 'sp_val': 0.729397, 'left': {'sp_idx': 0, 'sp_val': 0.952833, 'left': {'sp_idx': 0, 'sp_val': 0.965969, 'left': 92.5239915, 'right': {'sp_idx': 0, 'sp_val': 0.956951, 'left': {'sp_idx': 0, 'sp_val': 0.958512, 'left': {'sp_idx': 0, 'sp_val': 0.960398, 'left': 112.386764, 'right': 123.559747}, 'right': 135.837013}, 'right': 111.2013225}}, 'right': {'sp_idx': 0, 'sp_val': 0.759504, 'left': {'sp_idx': 0, 'sp_val': 0.763328, 'left': {'sp_idx': 0, 'sp_val': 0.769043, 'left': {'sp_idx': 0, 'sp_val': 0.790312, 'left': {'sp_idx': 0, 'sp_val': 0.806158, 'left': {'sp_idx': 0, 'sp_val': 0.815215, 'left': {'sp_idx': 0, 'sp_val': 0.833026, 'left': {'sp_idx': 0, 'sp_val': 0.841547, 'left': {'sp_idx': 0, 'sp_val': 0.841625, 'left': {'sp_idx': 0, 'sp_val': 0.944221, 'left': {'sp_idx': 0, 'sp_val': 0.948822, 'left': 96.41885225, 'right': 69.318649}, 'right': {'sp_idx': 0, 'sp_val': 0.85497, 'left': {'sp_idx': 0, 'sp_val': 0.936524, 'left': 110.03503850000001, 'right': {'sp_idx': 0, 'sp_val': 0.934853, 'left': 65.548418, 'right': {'sp_idx': 0, 'sp_val': 0.925782, 'left': 115.753994, 'right': {'sp_idx': 0, 'sp_val': 0.910975, 'left': {'sp_idx': 0, 'sp_val': 0.912161, 'left': 94.3961145, 'right': 85.005351}, 'right': {'sp_idx': 0, 'sp_val': 0.901444, 'left': {'sp_idx': 0, 'sp_val': 0.908629, 'left': 106.814667, 'right': 118.513475}, 'right': {'sp_idx': 0, 'sp_val': 0.901421, 'left': 87.300625, 'right': {'sp_idx': 0, 'sp_val': 0.892999, 'left': {'sp_idx': 0, 'sp_val': 0.900699, 'left': 100.133819, 'right': 108.094934}, 'right': {'sp_idx': 0, 'sp_val': 0.888426, 'left': 82.436686, 'right': {'sp_idx': 0, 'sp_val': 0.872199, 'left': 98.54454949999999, 'right': 106.16859550000001}}}}}}}}}, 'right': {'sp_idx': 0, 'sp_val': 0.84294, 'left': {'sp_idx': 0, 'sp_val': 0.847219, 'left': 89.20993, 'right': 76.240984}, 'right': 95.893131}}}, 'right': 60.552308}, 'right': 124.87935300000001}, 'right': {'sp_idx': 0, 'sp_val': 0.823848, 'left': 76.723835, 'right': {'sp_idx': 0, 'sp_val': 0.819722, 'left': 59.342323, 'right': 70.054508}}}, 'right': {'sp_idx': 0, 'sp_val': 0.811602, 'left': 118.319942, 'right': {'sp_idx': 0, 'sp_val': 0.811363, 'left': 99.841379, 'right': 112.981216}}}, 'right': 73.49439925}, 'right': {'sp_idx': 0, 'sp_val': 0.786865, 'left': 114.4008695, 'right': 102.26514075}}, 'right': 64.041941}, 'right': 115.199195}, 'right': 78.08564325}}, 'right': {'sp_idx': 0, 'sp_val': 0.640515, 'left': {'sp_idx': 0, 'sp_val': 0.642373, 'left': {'sp_idx': 0, 'sp_val': 0.642707, 'left': {'sp_idx': 0, 'sp_val': 0.665329, 'left': {'sp_idx': 0, 'sp_val': 0.706961, 'left': {'sp_idx': 0, 'sp_val': 0.70889, 'left': {'sp_idx': 0, 'sp_val': 0.716211, 'left': 110.90283, 'right': {'sp_idx': 0, 'sp_val': 0.710234, 'left': 103.345308, 'right': 108.553919}}, 'right': 135.416767}, 'right': {'sp_idx': 0, 'sp_val': 0.698472, 'left': {'sp_idx': 0, 'sp_val': 0.69892, 'left': {'sp_idx': 0, 'sp_val': 0.699873, 'left': {'sp_idx': 0, 'sp_val': 0.70639, 'left': 106.180427, 'right': 105.062147}, 'right': 115.586605}, 'right': 92.470636}, 'right': {'sp_idx': 0, 'sp_val': 0.689099, 'left': 120.521925, 'right': {'sp_idx': 0, 'sp_val': 0.666452, 'left': 101.91115275, 'right': 112.78136649999999}}}}, 'right': {'sp_idx': 0, 'sp_val': 0.661073, 'left': 121.980607, 'right': {'sp_idx': 0, 'sp_val': 0.652462, 'left': 115.687524, 'right': 112.715799}}}, 'right': 82.500766}, 'right': 140.613941}, 'right': {'sp_idx': 0, 'sp_val': 0.613004, 'left': {'sp_idx': 0, 'sp_val': 0.623909, 'left': {'sp_idx': 0, 'sp_val': 0.628061, 'left': {'sp_idx': 0, 'sp_val': 0.637999, 'left': 82.713621, 'right': {'sp_idx': 0, 'sp_val': 0.632691, 'left': 91.656617, 'right': 93.645293}}, 'right': {'sp_idx': 0, 'sp_val': 0.624827, 'left': 117.628346, 'right': 105.970743}}, 'right': 82.04976400000001}, 'right': {'sp_idx': 0, 'sp_val': 0.606417, 'left': 168.180746, 'right': {'sp_idx': 0, 'sp_val': 0.513332, 'left': {'sp_idx': 0, 'sp_val': 0.533511, 'left': {'sp_idx': 0, 'sp_val': 0.548539, 'left': {'sp_idx': 0, 'sp_val': 0.553797, 'left': {'sp_idx': 0, 'sp_val': 0.560301, 'left': {'sp_idx': 0, 'sp_val': 0.599142, 'left': 93.521396, 'right': {'sp_idx': 0, 'sp_val': 0.589806, 'left': 130.378529, 'right': {'sp_idx': 0, 'sp_val': 0.582311, 'left': 111.9849935, 'right': {'sp_idx': 0, 'sp_val': 0.571214, 'left': 82.589328, 'right': {'sp_idx': 0, 'sp_val': 0.569327, 'left': 114.872056, 'right': 108.435392}}}}}, 'right': 82.903945}, 'right': 129.0624485}, 'right': {'sp_idx': 0, 'sp_val': 0.546601, 'left': 83.114502, 'right': {'sp_idx': 0, 'sp_val': 0.537834, 'left': 97.3405265, 'right': 90.995536}}}, 'right': {'sp_idx': 0, 'sp_val': 0.51915, 'left': {'sp_idx': 0, 'sp_val': 0.531944, 'left': 129.766743, 'right': 124.795495}, 'right': 116.176162}}, 'right': {'sp_idx': 0, 'sp_val': 0.508548, 'left': 101.075609, 'right': {'sp_idx': 0, 'sp_val': 0.508542, 'left': 93.292829, 'right': 96.403373}}}}}}}, 'right': {'sp_idx': 0, 'sp_val': 0.457563, 'left': {'sp_idx': 0, 'sp_val': 0.465561, 'left': {'sp_idx': 0, 'sp_val': 0.467383, 'left': {'sp_idx': 0, 'sp_val': 0.483803, 'left': {'sp_idx': 0, 'sp_val': 0.487381, 'left': 8.53677, 'right': 27.729263}, 'right': 5.224234}, 'right': {'sp_idx': 0, 'sp_val': 0.46568, 'left': -9.712925, 'right': -23.777531}}, 'right': {'sp_idx': 0, 'sp_val': 0.463241, 'left': 30.051931, 'right': 17.171057}}, 'right': {'sp_idx': 0, 'sp_val': 0.455761, 'left': -34.044555, 'right': {'sp_idx': 0, 'sp_val': 0.126833, 'left': {'sp_idx': 0, 'sp_val': 0.130626, 'left': {'sp_idx': 0, 'sp_val': 0.382037, 'left': {'sp_idx': 0, 'sp_val': 0.388789, 'left': {'sp_idx': 0, 'sp_val': 0.437652, 'left': -4.1911745, 'right': {'sp_idx': 0, 'sp_val': 0.412516, 'left': {'sp_idx': 0, 'sp_val': 0.418943, 'left': {'sp_idx': 0, 'sp_val': 0.426711, 'left': {'sp_idx': 0, 'sp_val': 0.428582, 'left': 19.745224, 'right': 15.224266}, 'right': -21.594268}, 'right': 44.161493}, 'right': {'sp_idx': 0, 'sp_val': 0.403228, 'left': -26.419289, 'right': 0.6359300000000001}}}, 'right': 23.197474}, 'right': {'sp_idx': 0, 'sp_val': 0.335182, 'left': {'sp_idx': 0, 'sp_val': 0.370042, 'left': {'sp_idx': 0, 'sp_val': 0.378965, 'left': -29.007783, 'right': {'sp_idx': 0, 'sp_val': 0.373501, 'left': {'sp_idx': 0, 'sp_val': 0.377383, 'left': 13.583555, 'right': 5.241196}, 'right': -8.228297}}, 'right': {'sp_idx': 0, 'sp_val': 0.35679, 'left': -32.124495, 'right': {'sp_idx': 0, 'sp_val': 0.350725, 'left': -9.9938275, 'right': -26.851234812500003}}}, 'right': {'sp_idx': 0, 'sp_val': 0.324274, 'left': 22.286959625, 'right': {'sp_idx': 0, 'sp_val': 0.309133, 'left': {'sp_idx': 0, 'sp_val': 0.310956, 'left': -20.3973335, 'right': -49.939516}, 'right': {'sp_idx': 0, 'sp_val': 0.131833, 'left': {'sp_idx': 0, 'sp_val': 0.138619, 'left': {'sp_idx': 0, 'sp_val': 0.156067, 'left': {'sp_idx': 0, 'sp_val': 0.166765, 'left': {'sp_idx': 0, 'sp_val': 0.193282, 'left': {'sp_idx': 0, 'sp_val': 0.211633, 'left': {'sp_idx': 0, 'sp_val': 0.228473, 'left': {'sp_idx': 0, 'sp_val': 0.25807, 'left': {'sp_idx': 0, 'sp_val': 0.284794, 'left': {'sp_idx': 0, 'sp_val': 0.300318, 'left': 8.814725, 'right': {'sp_idx': 0, 'sp_val': 0.297107, 'left': -18.051318, 'right': {'sp_idx': 0, 'sp_val': 0.295993, 'left': -1.798377, 'right': {'sp_idx': 0, 'sp_val': 0.290749, 'left': -14.988279, 'right': -14.391613}}}}, 'right': {'sp_idx': 0, 'sp_val': 0.273863, 'left': 35.623746, 'right': {'sp_idx': 0, 'sp_val': 0.264926, 'left': -9.457556, 'right': {'sp_idx': 0, 'sp_val': 0.264639, 'left': 5.280579, 'right': 2.557923}}}}, 'right': {'sp_idx': 0, 'sp_val': 0.228628, 'left': {'sp_idx': 0, 'sp_val': 0.228751, 'left': -9.601409499999999, 'right': -30.812912}, 'right': -2.266273}}, 'right': 6.099239}, 'right': {'sp_idx': 0, 'sp_val': 0.202161, 'left': -16.42737025, 'right': -2.6781805}}, 'right': 9.5773855}, 'right': {'sp_idx': 0, 'sp_val': 0.156273, 'left': {'sp_idx': 0, 'sp_val': 0.164134, 'left': {'sp_idx': 0, 'sp_val': 0.166431, 'left': -14.740059, 'right': -6.512506}, 'right': -27.405211}, 'right': 0.225886}}, 'right': {'sp_idx': 0, 'sp_val': 0.13988, 'left': 7.557349, 'right': 7.336784}}, 'right': -29.087463}, 'right': 22.478291}}}}}, 'right': -39.524461}, 'right': {'sp_idx': 0, 'sp_val': 0.124723, 'left': 22.891675, 'right': {'sp_idx': 0, 'sp_val': 0.085111, 'left': {'sp_idx': 0, 'sp_val': 0.108801, 'left': 6.196516, 'right': {'sp_idx': 0, 'sp_val': 0.10796, 'left': -16.106164, 'right': {'sp_idx': 0, 'sp_val': 0.085873, 'left': -1.293195, 'right': -10.137104}}}, 'right': {'sp_idx': 0, 'sp_val': 0.084661, 'left': 37.820659, 'right': {'sp_idx': 0, 'sp_val': 0.080061, 'left': -24.132226, 'right': {'sp_idx': 0, 'sp_val': 0.068373, 'left': 15.824970500000001, 'right': {'sp_idx': 0, 'sp_val': 0.061219, 'left': -15.160836, 'right': {'sp_idx': 0, 'sp_val': 0.044737, 'left': {'sp_idx': 0, 'sp_val': 0.053764, 'left': {'sp_idx': 0, 'sp_val': 0.055862, 'left': 6.695567, 'right': -3.131497}, 'right': -13.731698}, 'right': 4.091626}}}}}}}}}}}\n"
     ]
    }
   ],
   "source": [
    "%matplotlib inline\n",
    "from importlib import *\n",
    "import numpy as np\n",
    "from CART import cart\n",
    "\n",
    "reload(cart)\n",
    "\n",
    "my_tree = cart.create_tree(my_mat2, ops=(0, 1))\n",
    "my_dat_test = cart.load_data_set('Data/ex2test.txt')\n",
    "my_mat2_test = np.mat(my_dat_test)\n",
    "new_tree = cart.prune(my_tree, my_mat2_test)\n",
    "\n",
    "print(new_tree)"
   ]
  },
  {
   "cell_type": "code",
   "execution_count": 34,
   "metadata": {
    "collapsed": false
   },
   "outputs": [
    {
     "data": {
      "text/plain": [
       "{'sp_idx': 0, 'sp_val': 0.285477, 'left': matrix([[1.69855694e-03],\n         [1.19647739e+01]]), 'right': matrix([[3.46877936],\n         [1.18521743]])}"
      ]
     },
     "execution_count": 34,
     "metadata": {},
     "output_type": "execute_result"
    }
   ],
   "source": [
    "%matplotlib inline\n",
    "from importlib import *\n",
    "import numpy as np\n",
    "from CART import cart\n",
    "\n",
    "reload(cart)\n",
    "\n",
    "my_mat2 = np.mat(cart.load_data_set('Data/exp2.txt'))\n",
    "\n",
    "cart.create_tree(my_mat2, cart.model_leaf, cart.model_err, (1, 10))"
   ]
  },
  {
   "cell_type": "code",
   "execution_count": 39,
   "metadata": {},
   "outputs": [
    {
     "data": {
      "text/plain": [
       "0.9640852318222146"
      ]
     },
     "execution_count": 39,
     "metadata": {},
     "output_type": "execute_result"
    }
   ],
   "source": [
    "%matplotlib inline\n",
    "from importlib import *\n",
    "import numpy as np\n",
    "from CART import cart\n",
    "\n",
    "reload(cart)\n",
    "\n",
    "train_mat = np.mat(cart.load_data_set('Data/bikeSpeedVsIq_train.txt'))\n",
    "test_mat = np.mat(cart.load_data_set('Data/bikeSpeedVsIq_test.txt'))\n",
    "\n",
    "my_tree = cart.create_tree(train_mat, ops=(1, 20))\n",
    "y_hat = cart.create_forecast(my_tree, test_mat[:, 0])\n",
    "np.corrcoef(y_hat, test_mat[:, 1], rowvar=0)[0, 1]"
   ]
  },
  {
   "cell_type": "code",
   "execution_count": 40,
   "metadata": {},
   "outputs": [
    {
     "data": {
      "text/plain": [
       "0.9760412191380597"
      ]
     },
     "execution_count": 40,
     "metadata": {},
     "output_type": "execute_result"
    }
   ],
   "source": [
    "my_tree = cart.create_tree(train_mat, cart.model_leaf, cart.model_err, (1, 20))\n",
    "y_hat = cart.create_forecast(my_tree, test_mat[:, 0], cart.model_tree_eval)\n",
    "np.corrcoef(y_hat, test_mat[:, 1], rowvar=0)[0, 1]"
   ]
  },
  {
   "cell_type": "code",
   "execution_count": 41,
   "metadata": {},
   "outputs": [
    {
     "data": {
      "text/plain": [
       "matrix([[37.58916794],\n        [ 6.18978355]])"
      ]
     },
     "execution_count": 41,
     "metadata": {},
     "output_type": "execute_result"
    }
   ],
   "source": [
    "ws, x, y = cart.lin_solve(train_mat)\n",
    "ws"
   ]
  },
  {
   "cell_type": "code",
   "execution_count": 42,
   "metadata": {},
   "outputs": [
    {
     "data": {
      "text/plain": [
       "0.9434684235674762"
      ]
     },
     "execution_count": 42,
     "metadata": {},
     "output_type": "execute_result"
    }
   ],
   "source": [
    "for i in range(np.shape(test_mat)[0]):\n",
    "    y_hat[i] = test_mat[i, 0] * ws[1, 0] + ws[0, 0]\n",
    "\n",
    "np.corrcoef(y_hat, test_mat[:, 1], rowvar=0)[0, 1]"
   ]
  },
  {
   "cell_type": "code",
   "execution_count": null,
   "metadata": {},
   "outputs": [],
   "source": []
  }
 ],
 "metadata": {
  "kernelspec": {
   "display_name": "Python 2",
   "language": "python",
   "name": "python2"
  },
  "language_info": {
   "codemirror_mode": {
    "name": "ipython",
    "version": 2
   },
   "file_extension": ".py",
   "mimetype": "text/x-python",
   "name": "python",
   "nbconvert_exporter": "python",
   "pygments_lexer": "ipython2",
   "version": "2.7.6"
  }
 },
 "nbformat": 4,
 "nbformat_minor": 0
}
