{
 "cells": [
  {
   "cell_type": "code",
   "execution_count": 1,
   "metadata": {},
   "outputs": [],
   "source": [
    "import operator\n",
    "import math\n",
    "\n",
    "\n",
    "def create_data_set():\n",
    "    '''Generate a simple test data set.'''\n",
    "\n",
    "    data_set = [\n",
    "        [1, 1, 'yes'],\n",
    "        [1, 1, 'yes'],\n",
    "        [1, 0, 'no'],\n",
    "        [0, 1, 'no'],\n",
    "        [0, 1, 'no'],\n",
    "    ]\n",
    "    labels = ['no surfacing', 'flippers']\n",
    "    return data_set, labels\n",
    "\n",
    "\n",
    "def shannon_entropy(data_set):\n",
    "    '''Calculate Shannon entropy.'''\n",
    "\n",
    "    num_entries = len(data_set)\n",
    "    label_dict = {}\n",
    "\n",
    "    for feature_vec in data_set:\n",
    "        curr_label = feature_vec[-1]\n",
    "        if curr_label not in label_dict:\n",
    "            label_dict[curr_label] = 0\n",
    "        label_dict[curr_label] += 1\n",
    "\n",
    "    entropy = 0.0\n",
    "    for key in label_dict:\n",
    "        prob = float(label_dict[key]) / num_entries\n",
    "        entropy -= prob * math.log(prob, 2)\n",
    "\n",
    "    return entropy\n",
    "\n",
    "\n",
    "def split_data_set(data_set, axis, value):\n",
    "    '''Split set according to specified feature and value.'''\n",
    "\n",
    "    result = []\n",
    "    for feat_vec in data_set:\n",
    "        if feat_vec[axis] == value:\n",
    "            result.append(feat_vec[:axis] + feat_vec[axis+1:])\n",
    "\n",
    "    return result\n",
    "\n",
    "\n",
    "def best_feat_to_split(data_set):\n",
    "    num_features = len(data_set[0]) - 1\n",
    "    base_entropy = shannon_entropy(data_set)\n",
    "    best_info_gain = 0.0\n",
    "    best_feature = -1\n",
    "\n",
    "    for i in range(num_features):\n",
    "        feat_vals = [example[i] for example in data_set]\n",
    "        uniq_feat_vals = set(feat_vals)\n",
    "        new_entropy = 0.0\n",
    "\n",
    "        for val in uniq_feat_vals:\n",
    "            sub_data_set = split_data_set(data_set, i, val)            \n",
    "            prob = len(sub_data_set) / float(len(data_set))\n",
    "            print(\"prob for data set {} is {}\".format(sub_data_set, prob))\n",
    "            new_entropy += prob * shannon_entropy(sub_data_set)\n",
    "            \n",
    "        info_gain = base_entropy - new_entropy\n",
    "        print(\"feature {}, new_entropy {}\".format(i, new_entropy))\n",
    "        if info_gain > best_info_gain:\n",
    "            best_info_gain = info_gain\n",
    "            best_feature = i\n",
    "\n",
    "    return best_feature\n",
    "\n",
    "def majority_count(class_list):\n",
    "    class_count = {}\n",
    "    for vote in class_list:\n",
    "        if vote not in class_count:\n",
    "            class_count[vote] = 0\n",
    "        class_count[vote] += 1\n",
    "    sorted_class_count = sorted(class_count.items(),\n",
    "                                key=operator.itemgetter(1), \n",
    "                                reverse=True)\n",
    "    return sorted_class_count[0][0]\n",
    "\n",
    "def create_tree(data_set, labels):\n",
    "    class_list = [example[-1] for example in data_set]\n",
    "    if class_list.count(class_list[0]) == len(class_list):\n",
    "        return class_list[0]\n",
    "    if len(data_set[0]) == 1:\n",
    "        return majority_count(class_list)\n",
    "    \n",
    "    best_feature = best_feat_to_split(data_set)\n",
    "    print(\"debug: data: {}, best_feature: {}\".format(data_set, best_feature))\n",
    "    best_feature_label = labels[best_feature]\n",
    "    \n",
    "    tree = {best_feature_label: {}}\n",
    "    del(labels[best_feature])\n",
    "    feat_values = [example[best_feature] for example in data_set]\n",
    "    uniq_values = set(feat_values)\n",
    "    \n",
    "    for val in uniq_values:\n",
    "        sub_labels = labels[:]\n",
    "        tree[best_feature_label][val] = create_tree(split_data_set(data_set, \n",
    "                                                                   best_feature, \n",
    "                                                                   val),\n",
    "                                                    sub_labels)\n",
    "    return tree\n",
    "\n",
    "def classify(inputTree, featLabels, testVec):\n",
    "    firstStr = list(inputTree)[0]\n",
    "    secondDict = inputTree[firstStr]\n",
    "    featIndex = featLabels.index(firstStr)\n",
    "    key = testVec[featIndex]\n",
    "    valueOfFeat = secondDict[key]\n",
    "    if isinstance(valueOfFeat, dict):\n",
    "        classLabel = classify(valueOfFeat, featLabels, testVec)\n",
    "    else: classLabel = valueOfFeat\n",
    "    return classLabel\n",
    "\n",
    "def storeTree(inputTree, filename):\n",
    "    import pickle\n",
    "    fw = open(filename, 'wb')\n",
    "    pickle.dump(inputTree, fw)\n",
    "    fw.close()\n",
    "\n",
    "def grabTree(filename):\n",
    "    import pickle\n",
    "    fr = open(filename, 'rb')\n",
    "    return pickle.load(fr)"
   ]
  },
  {
   "cell_type": "code",
   "execution_count": 84,
   "metadata": {},
   "outputs": [
    {
     "name": "stdout",
     "output_type": "stream",
     "text": [
      "[[1, 1, 'yes'], [1, 1, 'yes'], [1, 0, 'no'], [0, 1, 'no'], [0, 1, 'no']] ['no surfacing', 'flippers']\n"
     ]
    }
   ],
   "source": [
    "dat, labels = create_data_set()\n",
    "print(dat, labels)"
   ]
  },
  {
   "cell_type": "code",
   "execution_count": 81,
   "metadata": {},
   "outputs": [
    {
     "data": {
      "text/plain": [
       "0.9709505944546686"
      ]
     },
     "execution_count": 81,
     "metadata": {},
     "output_type": "execute_result"
    }
   ],
   "source": [
    "shannon_entropy(dat)"
   ]
  },
  {
   "cell_type": "code",
   "execution_count": 85,
   "metadata": {},
   "outputs": [
    {
     "name": "stdout",
     "output_type": "stream",
     "text": [
      "prob for data set [[1, 'no'], [1, 'no']] is 0.4\n",
      "prob for data set [[1, 'yes'], [1, 'yes'], [0, 'no']] is 0.6\n",
      "feature 0, new_entropy 0.5509775004326937\n",
      "prob for data set [[1, 'no']] is 0.2\n",
      "prob for data set [[1, 'yes'], [1, 'yes'], [0, 'no'], [0, 'no']] is 0.8\n",
      "feature 1, new_entropy 0.8\n",
      "debug: data: [[1, 1, 'yes'], [1, 1, 'yes'], [1, 0, 'no'], [0, 1, 'no'], [0, 1, 'no']], best_feature: 0\n",
      "prob for data set [['no']] is 0.3333333333333333\n",
      "prob for data set [['yes'], ['yes']] is 0.6666666666666666\n",
      "feature 0, new_entropy 0.0\n",
      "debug: data: [[1, 'yes'], [1, 'yes'], [0, 'no']], best_feature: 0\n"
     ]
    }
   ],
   "source": [
    "tree = create_tree(dat, labels)"
   ]
  },
  {
   "cell_type": "code",
   "execution_count": 12,
   "metadata": {},
   "outputs": [
    {
     "data": {
      "text/plain": [
       "'yes'"
      ]
     },
     "execution_count": 12,
     "metadata": {},
     "output_type": "execute_result"
    }
   ],
   "source": [
    "import plot\n",
    "import decision_tree\n",
    "\n",
    "dat, labels = decision_tree.create_data_set()\n",
    "tree = plot.retrieveTree(0)\n",
    "decision_tree.classify(tree, labels, [1, 1])"
   ]
  },
  {
   "cell_type": "code",
   "execution_count": 5,
   "metadata": {},
   "outputs": [],
   "source": [
    "decision_tree.store_tree(tree, 'tree.txt')"
   ]
  },
  {
   "cell_type": "code",
   "execution_count": 6,
   "metadata": {},
   "outputs": [
    {
     "data": {
      "text/plain": [
       "{'no surfacing': {0: 'no', 1: {'flippers': {0: 'no', 1: 'yes'}}}}"
      ]
     },
     "execution_count": 6,
     "metadata": {},
     "output_type": "execute_result"
    }
   ],
   "source": [
    "decision_tree.grab_tree('tree.txt')"
   ]
  },
  {
   "cell_type": "code",
   "execution_count": 13,
   "metadata": {},
   "outputs": [
    {
     "name": "stdout",
     "output_type": "stream",
     "text": [
      "prob for data set [['myope', 'no', 'reduced', 'no lenses'], ['myope', 'no', 'normal', 'soft'], ['myope', 'yes', 'reduced', 'no lenses'], ['myope', 'yes', 'normal', 'hard'], ['hyper', 'no', 'reduced', 'no lenses'], ['hyper', 'no', 'normal', 'soft'], ['hyper', 'yes', 'reduced', 'no lenses'], ['hyper', 'yes', 'normal', 'hard']] is 0.3333333333333333\n",
      "prob for data set [['myope', 'no', 'reduced', 'no lenses'], ['myope', 'no', 'normal', 'soft'], ['myope', 'yes', 'reduced', 'no lenses'], ['myope', 'yes', 'normal', 'hard'], ['hyper', 'no', 'reduced', 'no lenses'], ['hyper', 'no', 'normal', 'soft'], ['hyper', 'yes', 'reduced', 'no lenses'], ['hyper', 'yes', 'normal', 'no lenses']] is 0.3333333333333333\n",
      "prob for data set [['myope', 'no', 'reduced', 'no lenses'], ['myope', 'no', 'normal', 'no lenses'], ['myope', 'yes', 'reduced', 'no lenses'], ['myope', 'yes', 'normal', 'hard'], ['hyper', 'no', 'reduced', 'no lenses'], ['hyper', 'no', 'normal', 'soft'], ['hyper', 'yes', 'reduced', 'no lenses'], ['hyper', 'yes', 'normal', 'no lenses']] is 0.3333333333333333\n",
      "feature 0, new_entropy 1.286691021718177\n",
      "prob for data set [['young', 'no', 'reduced', 'no lenses'], ['young', 'no', 'normal', 'soft'], ['young', 'yes', 'reduced', 'no lenses'], ['young', 'yes', 'normal', 'hard'], ['pre', 'no', 'reduced', 'no lenses'], ['pre', 'no', 'normal', 'soft'], ['pre', 'yes', 'reduced', 'no lenses'], ['pre', 'yes', 'normal', 'no lenses'], ['presbyopic', 'no', 'reduced', 'no lenses'], ['presbyopic', 'no', 'normal', 'soft'], ['presbyopic', 'yes', 'reduced', 'no lenses'], ['presbyopic', 'yes', 'normal', 'no lenses']] is 0.5\n",
      "prob for data set [['young', 'no', 'reduced', 'no lenses'], ['young', 'no', 'normal', 'soft'], ['young', 'yes', 'reduced', 'no lenses'], ['young', 'yes', 'normal', 'hard'], ['pre', 'no', 'reduced', 'no lenses'], ['pre', 'no', 'normal', 'soft'], ['pre', 'yes', 'reduced', 'no lenses'], ['pre', 'yes', 'normal', 'hard'], ['presbyopic', 'no', 'reduced', 'no lenses'], ['presbyopic', 'no', 'normal', 'no lenses'], ['presbyopic', 'yes', 'reduced', 'no lenses'], ['presbyopic', 'yes', 'normal', 'hard']] is 0.5\n",
      "feature 1, new_entropy 1.2865766899407325\n",
      "prob for data set [['young', 'myope', 'reduced', 'no lenses'], ['young', 'myope', 'normal', 'soft'], ['young', 'hyper', 'reduced', 'no lenses'], ['young', 'hyper', 'normal', 'soft'], ['pre', 'myope', 'reduced', 'no lenses'], ['pre', 'myope', 'normal', 'soft'], ['pre', 'hyper', 'reduced', 'no lenses'], ['pre', 'hyper', 'normal', 'soft'], ['presbyopic', 'myope', 'reduced', 'no lenses'], ['presbyopic', 'myope', 'normal', 'no lenses'], ['presbyopic', 'hyper', 'reduced', 'no lenses'], ['presbyopic', 'hyper', 'normal', 'soft']] is 0.5\n",
      "prob for data set [['young', 'myope', 'reduced', 'no lenses'], ['young', 'myope', 'normal', 'hard'], ['young', 'hyper', 'reduced', 'no lenses'], ['young', 'hyper', 'normal', 'hard'], ['pre', 'myope', 'reduced', 'no lenses'], ['pre', 'myope', 'normal', 'hard'], ['pre', 'hyper', 'reduced', 'no lenses'], ['pre', 'hyper', 'normal', 'no lenses'], ['presbyopic', 'myope', 'reduced', 'no lenses'], ['presbyopic', 'myope', 'normal', 'hard'], ['presbyopic', 'hyper', 'reduced', 'no lenses'], ['presbyopic', 'hyper', 'normal', 'no lenses']] is 0.5\n",
      "feature 2, new_entropy 0.9490822953528211\n",
      "prob for data set [['young', 'myope', 'no', 'soft'], ['young', 'myope', 'yes', 'hard'], ['young', 'hyper', 'no', 'soft'], ['young', 'hyper', 'yes', 'hard'], ['pre', 'myope', 'no', 'soft'], ['pre', 'myope', 'yes', 'hard'], ['pre', 'hyper', 'no', 'soft'], ['pre', 'hyper', 'yes', 'no lenses'], ['presbyopic', 'myope', 'no', 'no lenses'], ['presbyopic', 'myope', 'yes', 'hard'], ['presbyopic', 'hyper', 'no', 'soft'], ['presbyopic', 'hyper', 'yes', 'no lenses']] is 0.5\n",
      "prob for data set [['young', 'myope', 'no', 'no lenses'], ['young', 'myope', 'yes', 'no lenses'], ['young', 'hyper', 'no', 'no lenses'], ['young', 'hyper', 'yes', 'no lenses'], ['pre', 'myope', 'no', 'no lenses'], ['pre', 'myope', 'yes', 'no lenses'], ['pre', 'hyper', 'no', 'no lenses'], ['pre', 'hyper', 'yes', 'no lenses'], ['presbyopic', 'myope', 'no', 'no lenses'], ['presbyopic', 'myope', 'yes', 'no lenses'], ['presbyopic', 'hyper', 'no', 'no lenses'], ['presbyopic', 'hyper', 'yes', 'no lenses']] is 0.5\n",
      "feature 3, new_entropy 0.7772925846688997\n",
      "prob for data set [['myope', 'no', 'soft'], ['myope', 'yes', 'hard'], ['hyper', 'no', 'soft'], ['hyper', 'yes', 'hard']] is 0.3333333333333333\n",
      "prob for data set [['myope', 'no', 'soft'], ['myope', 'yes', 'hard'], ['hyper', 'no', 'soft'], ['hyper', 'yes', 'no lenses']] is 0.3333333333333333\n",
      "prob for data set [['myope', 'no', 'no lenses'], ['myope', 'yes', 'hard'], ['hyper', 'no', 'soft'], ['hyper', 'yes', 'no lenses']] is 0.3333333333333333\n",
      "feature 0, new_entropy 1.3333333333333333\n",
      "prob for data set [['young', 'no', 'soft'], ['young', 'yes', 'hard'], ['pre', 'no', 'soft'], ['pre', 'yes', 'no lenses'], ['presbyopic', 'no', 'soft'], ['presbyopic', 'yes', 'no lenses']] is 0.5\n",
      "prob for data set [['young', 'no', 'soft'], ['young', 'yes', 'hard'], ['pre', 'no', 'soft'], ['pre', 'yes', 'hard'], ['presbyopic', 'no', 'no lenses'], ['presbyopic', 'yes', 'hard']] is 0.5\n",
      "feature 1, new_entropy 1.4591479170272446\n",
      "prob for data set [['young', 'myope', 'soft'], ['young', 'hyper', 'soft'], ['pre', 'myope', 'soft'], ['pre', 'hyper', 'soft'], ['presbyopic', 'myope', 'no lenses'], ['presbyopic', 'hyper', 'soft']] is 0.5\n",
      "prob for data set [['young', 'myope', 'hard'], ['young', 'hyper', 'hard'], ['pre', 'myope', 'hard'], ['pre', 'hyper', 'no lenses'], ['presbyopic', 'myope', 'hard'], ['presbyopic', 'hyper', 'no lenses']] is 0.5\n",
      "feature 2, new_entropy 0.7841591278514218\n",
      "prob for data set [['myope', 'soft'], ['hyper', 'soft']] is 0.3333333333333333\n",
      "prob for data set [['myope', 'soft'], ['hyper', 'soft']] is 0.3333333333333333\n",
      "prob for data set [['myope', 'no lenses'], ['hyper', 'soft']] is 0.3333333333333333\n",
      "feature 0, new_entropy 0.3333333333333333\n",
      "prob for data set [['young', 'soft'], ['pre', 'soft'], ['presbyopic', 'soft']] is 0.5\n",
      "prob for data set [['young', 'soft'], ['pre', 'soft'], ['presbyopic', 'no lenses']] is 0.5\n",
      "feature 1, new_entropy 0.4591479170272448\n",
      "prob for data set [['soft']] is 0.5\n",
      "prob for data set [['no lenses']] is 0.5\n",
      "feature 0, new_entropy 0.0\n",
      "prob for data set [['myope', 'hard'], ['hyper', 'hard']] is 0.3333333333333333\n",
      "prob for data set [['myope', 'hard'], ['hyper', 'no lenses']] is 0.3333333333333333\n",
      "prob for data set [['myope', 'hard'], ['hyper', 'no lenses']] is 0.3333333333333333\n",
      "feature 0, new_entropy 0.6666666666666666\n",
      "prob for data set [['young', 'hard'], ['pre', 'no lenses'], ['presbyopic', 'no lenses']] is 0.5\n",
      "prob for data set [['young', 'hard'], ['pre', 'hard'], ['presbyopic', 'hard']] is 0.5\n",
      "feature 1, new_entropy 0.4591479170272448\n",
      "prob for data set [['hard']] is 0.3333333333333333\n",
      "prob for data set [['no lenses']] is 0.3333333333333333\n",
      "prob for data set [['no lenses']] is 0.3333333333333333\n",
      "feature 0, new_entropy 0.0\n"
     ]
    }
   ],
   "source": [
    "file = open('lenses.txt')\n",
    "lenses = [line.strip().split('\\t') for line in file.readlines()]\n",
    "\n",
    "labels = ['age', 'prescript', 'astigmatic', 'tearRate']\n",
    "lenses_tree = decision_tree.create_tree(lenses, labels)"
   ]
  },
  {
   "cell_type": "code",
   "execution_count": 14,
   "metadata": {},
   "outputs": [
    {
     "data": {
      "image/png": "[encoded data removed]",
      "text/plain": [
       "<Figure size 432x288 with 1 Axes>"
      ]
     },
     "metadata": {},
     "output_type": "display_data"
    }
   ],
   "source": [
    "plot.createPlot(lenses_tree)"
   ]
  }
 ],
 "metadata": {
  "kernelspec": {
   "display_name": "Python 3",
   "language": "python",
   "name": "python3"
  },
  "language_info": {
   "codemirror_mode": {
    "name": "ipython",
    "version": 3
   },
   "file_extension": ".py",
   "mimetype": "text/x-python",
   "name": "python",
   "nbconvert_exporter": "python",
   "pygments_lexer": "ipython3",
   "version": "3.6.5"
  }
 },
 "nbformat": 4,
 "nbformat_minor": 2
}
