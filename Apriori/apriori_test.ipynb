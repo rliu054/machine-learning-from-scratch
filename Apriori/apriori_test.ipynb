{
 "cells": [
  {
   "cell_type": "code",
   "execution_count": 47,
   "metadata": {},
   "outputs": [
    {
     "data": {
      "text/plain": [
       "[[1, 3, 4], [2, 3, 5], [1, 2, 3, 5], [2, 5]]"
      ]
     },
     "execution_count": 47,
     "metadata": {},
     "output_type": "execute_result"
    }
   ],
   "source": [
    "import apriori\n",
    "\n",
    "import importlib\n",
    "importlib.reload(apriori)\n",
    "\n",
    "data_set = apriori.load_data_set()\n",
    "data_set"
   ]
  },
  {
   "cell_type": "code",
   "execution_count": 48,
   "metadata": {},
   "outputs": [
    {
     "name": "stdout",
     "output_type": "stream",
     "text": [
      "[{1, 3, 4}, {2, 3, 5}, {1, 2, 3, 5}, {2, 5}]\n"
     ]
    }
   ],
   "source": [
    "c1 = apriori.gen_set_list_size_one(data_set)\n",
    "\n",
    "d = list(map(set, data_set))\n",
    "print(d)"
   ]
  },
  {
   "cell_type": "code",
   "execution_count": 49,
   "metadata": {},
   "outputs": [
    {
     "name": "stdout",
     "output_type": "stream",
     "text": [
      "[frozenset({5}), frozenset({2}), frozenset({3}), frozenset({1})]\n"
     ]
    }
   ],
   "source": [
    "l1, sd = apriori.filter(d, c1, 0.5)\n",
    "print(l1)"
   ]
  },
  {
   "cell_type": "code",
   "execution_count": 50,
   "metadata": {},
   "outputs": [
    {
     "name": "stdout",
     "output_type": "stream",
     "text": [
      "[[frozenset({5}), frozenset({2}), frozenset({3}), frozenset({1})], [frozenset({2, 3}), frozenset({3, 5}), frozenset({2, 5}), frozenset({1, 3})], [frozenset({2, 3, 5})], []]\n"
     ]
    }
   ],
   "source": [
    "set_list, set_dict = apriori.apriori(data_set)\n",
    "print(set_list)"
   ]
  },
  {
   "cell_type": "code",
   "execution_count": 51,
   "metadata": {},
   "outputs": [
    {
     "data": {
      "text/plain": [
       "[frozenset({2, 5}),\n",
       " frozenset({3, 5}),\n",
       " frozenset({1, 5}),\n",
       " frozenset({2, 3}),\n",
       " frozenset({1, 2}),\n",
       " frozenset({1, 3})]"
      ]
     },
     "execution_count": 51,
     "metadata": {},
     "output_type": "execute_result"
    }
   ],
   "source": [
    "apriori.gen_set_list_size_k(set_list[0], 2)"
   ]
  },
  {
   "cell_type": "code",
   "execution_count": 52,
   "metadata": {
    "scrolled": true
   },
   "outputs": [
    {
     "name": "stdout",
     "output_type": "stream",
     "text": [
      "[[frozenset({5}), frozenset({2}), frozenset({3})], [frozenset({2, 5})], []]\n"
     ]
    }
   ],
   "source": [
    "set_list, set_dict = apriori.apriori(data_set, 0.7)\n",
    "print(set_list)"
   ]
  },
  {
   "cell_type": "code",
   "execution_count": 53,
   "metadata": {
    "scrolled": false
   },
   "outputs": [
    {
     "name": "stdout",
     "output_type": "stream",
     "text": [
      "4 [[frozenset({5}), frozenset({2}), frozenset({3}), frozenset({1})], [frozenset({2, 3}), frozenset({3, 5}), frozenset({2, 5}), frozenset({1, 3})], [frozenset({2, 3, 5})], []]\n",
      "\n",
      "12 {frozenset({1}): 0.5, frozenset({3}): 0.75, frozenset({4}): 0.25, frozenset({2}): 0.75, frozenset({5}): 0.75, frozenset({1, 3}): 0.5, frozenset({2, 5}): 0.75, frozenset({3, 5}): 0.5, frozenset({2, 3}): 0.5, frozenset({1, 5}): 0.25, frozenset({1, 2}): 0.25, frozenset({2, 3, 5}): 0.5}\n"
     ]
    }
   ],
   "source": [
    "set_list, set_dict = apriori.apriori(data_set, 0.5)\n",
    "print(len(set_list), set_list)\n",
    "print()\n",
    "print(len(set_dict), set_dict)"
   ]
  },
  {
   "cell_type": "code",
   "execution_count": 54,
   "metadata": {},
   "outputs": [
    {
     "name": "stdout",
     "output_type": "stream",
     "text": [
      "freq_set: frozenset({2, 3})\n",
      "in calc_conf\n",
      "freq_set: frozenset({2, 3}), conseq: frozenset({2})\n",
      "\n",
      "freq_set: frozenset({2, 3}), conseq: frozenset({3})\n",
      "\n",
      "freq_set: frozenset({3, 5})\n",
      "in calc_conf\n",
      "freq_set: frozenset({3, 5}), conseq: frozenset({3})\n",
      "\n",
      "freq_set: frozenset({3, 5}), conseq: frozenset({5})\n",
      "\n",
      "freq_set: frozenset({2, 5})\n",
      "in calc_conf\n",
      "freq_set: frozenset({2, 5}), conseq: frozenset({2})\n",
      "\n",
      "frozenset({5}) --> frozenset({2}) conf 1.0\n",
      "freq_set: frozenset({2, 5}), conseq: frozenset({5})\n",
      "\n",
      "frozenset({2}) --> frozenset({5}) conf 1.0\n",
      "freq_set: frozenset({1, 3})\n",
      "in calc_conf\n",
      "freq_set: frozenset({1, 3}), conseq: frozenset({1})\n",
      "\n",
      "freq_set: frozenset({1, 3}), conseq: frozenset({3})\n",
      "\n",
      "frozenset({1}) --> frozenset({3}) conf 1.0\n",
      "freq_set: frozenset({2, 3, 5})\n",
      "in rules from conseq, h=[frozenset({2}), frozenset({3}), frozenset({5})]\n",
      "freq_set=frozenset({2, 3, 5}), m=1\n",
      "before, hmp1=[frozenset({2, 3}), frozenset({2, 5}), frozenset({3, 5})]\n",
      "in calc_conf\n",
      "freq_set: frozenset({2, 3, 5}), conseq: frozenset({2, 3})\n",
      "\n",
      "freq_set: frozenset({2, 3, 5}), conseq: frozenset({2, 5})\n",
      "\n",
      "freq_set: frozenset({2, 3, 5}), conseq: frozenset({3, 5})\n",
      "\n",
      "after, hmp1=[]\n",
      "None\n"
     ]
    }
   ],
   "source": [
    "rules = apriori.generate_rules(set_list, set_dict, 0.7)\n",
    "print(rules)"
   ]
  }
 ],
 "metadata": {
  "kernelspec": {
   "display_name": "Python 3",
   "language": "python",
   "name": "python3"
  },
  "language_info": {
   "codemirror_mode": {
    "name": "ipython",
    "version": 3
   },
   "file_extension": ".py",
   "mimetype": "text/x-python",
   "name": "python",
   "nbconvert_exporter": "python",
   "pygments_lexer": "ipython3",
   "version": "3.6.5"
  }
 },
 "nbformat": 4,
 "nbformat_minor": 2
}
