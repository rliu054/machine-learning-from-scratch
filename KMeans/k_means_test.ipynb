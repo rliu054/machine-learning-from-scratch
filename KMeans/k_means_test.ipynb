{
 "cells": [
  {
   "cell_type": "code",
   "execution_count": 4,
   "metadata": {
    "collapsed": false
   },
   "outputs": [
    {
     "name": "stdout",
     "output_type": "stream",
     "text": [
      "[[ 3.84322646 -1.4465141 ]\n [-3.98533571  4.72626688]\n [-1.76031334  4.80158477]\n [-0.48882163 -0.59875263]]\n[[ 3.18732136 -1.17077828]\n [-3.48664243  2.77252571]\n [ 0.01289986  3.38919809]\n [-2.45574581 -2.32140327]]\n[[ 2.96839327 -2.13784255]\n [-2.84017553  2.6309902 ]\n [ 1.6457145   3.370942  ]\n [-3.19984738 -2.96423548]]\n[[ 2.80293085 -2.7315146 ]\n [-2.46154315  2.78737555]\n [ 2.6265299   3.10868015]\n [-3.38237045 -2.9473363 ]]\n"
     ]
    }
   ],
   "source": [
    "%matplotlib inline\n",
    "from importlib import *\n",
    "import numpy as np\n",
    "from KMeans import k_means\n",
    "\n",
    "reload(k_means)\n",
    "\n",
    "data_mat = np.mat(k_means.load_data_set('Data/testSet.txt'))\n",
    "my_cents, cluster_tab = k_means.k_means(data_mat, 4)"
   ]
  },
  {
   "cell_type": "code",
   "execution_count": 7,
   "metadata": {
    "collapsed": false
   },
   "outputs": [
    {
     "name": "stdout",
     "output_type": "stream",
     "text": [
      "[[-0.1805513   3.56074465]\n [-4.810222   -0.42092459]]\n[[ 0.18204313  3.32057745]\n [-0.74459109 -2.39373345]]\n[[-0.00675605  3.22710297]\n [-0.45965615 -2.7782156 ]]\nsse_split, and not_split:  453.0334895807502 0.0\nthe bestCentToSplit is:  0\nthe len of bestClustAss is:  60\n[[2.60032704 3.08764007]\n [3.63985347 2.16150511]]\n[[-0.79321379  3.40909973]\n [ 3.70083043  2.36911829]]\n[[-2.56687932  3.32870355]\n [ 3.1222835   3.1029245 ]]\n[[-2.94737575  3.3263781 ]\n [ 2.93386365  3.12782785]]\nsse_split, and not_split:  77.59224931775066 29.15724944412535\nthe bestCentToSplit is:  0\nthe len of bestClustAss is:  40\n[[-0.49621303 -3.3026406 ]\n [ 0.67240362 -1.89840992]]\n[[-0.54562988 -2.99100569]\n [-0.11576125 -1.92705525]]\n[[-0.39994281 -3.1000235 ]\n [-0.6985095  -1.490984  ]]\n[[-0.15366667 -3.15354   ]\n [-1.3776246  -1.6522424 ]]\n[[-0.05200457 -3.16610557]\n [-1.41084317 -1.873139  ]]\n[[-7.11923077e-04 -3.21792031e+00]\n [-1.31198114e+00 -1.96162114e+00]]\n[[ 0.07973025 -3.24942808]\n [-1.26873575 -2.07139688]]\n[[ 0.19848727 -3.24320436]\n [-1.26405367 -2.209896  ]]\n[[ 0.2642961 -3.3057243]\n [-1.1836084 -2.2507069]]\n[[ 0.35496167 -3.36033556]\n [-1.12616164 -2.30193564]]\nsse_split, and not_split:  12.753263136887313 77.59224931775066\nthe bestCentToSplit is:  1\nthe len of bestClustAss is:  20\n"
     ]
    }
   ],
   "source": [
    "%matplotlib inline\n",
    "from importlib import *\n",
    "import numpy as np\n",
    "from KMeans import k_means\n",
    "\n",
    "reload(k_means)\n",
    "\n",
    "dat_mat3 = np.mat(k_means.load_data_set('Data/testSet2.txt'))\n",
    "cent_list, my_new_assignments = k_means.bi_k_means(dat_mat3, 3)"
   ]
  },
  {
   "cell_type": "code",
   "execution_count": 8,
   "metadata": {},
   "outputs": [
    {
     "data": {
      "text/plain": [
       "matrix([[-2.94737575,  3.3263781 ],\n        [ 0.35496167, -3.36033556],\n        [ 2.93386365,  3.12782785],\n        [-1.12616164, -2.30193564]])"
      ]
     },
     "execution_count": 8,
     "metadata": {},
     "output_type": "execute_result"
    }
   ],
   "source": [
    "cent_list"
   ]
  },
  {
   "cell_type": "code",
   "execution_count": 1,
   "metadata": {
    "collapsed": false
   },
   "outputs": [
    {
     "name": "stdout",
     "output_type": "stream",
     "text": [
      "bad code\n"
     ]
    }
   ],
   "source": [
    "print('bad code')"
   ]
  },
  {
   "cell_type": "code",
   "execution_count": null,
   "metadata": {},
   "outputs": [],
   "source": []
  }
 ],
 "metadata": {
  "kernelspec": {
   "display_name": "Python 2",
   "language": "python",
   "name": "python2"
  },
  "language_info": {
   "codemirror_mode": {
    "name": "ipython",
    "version": 2
   },
   "file_extension": ".py",
   "mimetype": "text/x-python",
   "name": "python",
   "nbconvert_exporter": "python",
   "pygments_lexer": "ipython2",
   "version": "2.7.6"
  }
 },
 "nbformat": 4,
 "nbformat_minor": 0
}
