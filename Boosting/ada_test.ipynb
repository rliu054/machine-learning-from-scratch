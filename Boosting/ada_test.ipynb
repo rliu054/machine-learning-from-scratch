{
 "cells": [
  {
   "cell_type": "code",
   "execution_count": 1,
   "metadata": {
    "scrolled": true
   },
   "outputs": [
    {
     "data": {
      "text/plain": [
       "({'dim': 0, 'thres': 1.3, 'ineq': 'lt'}, matrix([[0.2]]), array([[-1.],\n        [ 1.],\n        [-1.],\n        [-1.],\n        [ 1.]]))"
      ]
     },
     "execution_count": 1,
     "metadata": {},
     "output_type": "execute_result"
    }
   ],
   "source": [
    "import numpy as np\n",
    "from Boosting import ada_boost\n",
    "\n",
    "dat_mat, class_labels = ada_boost.load_simple_data()\n",
    "d = np.mat(np.ones((5, 1)) / 5)\n",
    "ada_boost.build_stump(dat_mat, class_labels, d)"
   ]
  },
  {
   "cell_type": "code",
   "execution_count": 5,
   "metadata": {
    "collapsed": false
   },
   "outputs": [
    {
     "name": "stdout",
     "output_type": "stream",
     "text": [
      "example weights:  [[0.2 0.2 0.2 0.2 0.2]]\nclass est:  [[-1.  1. -1. -1.  1.]]\nagg class est:  [[-0.69314718  0.69314718 -0.69314718 -0.69314718  0.69314718]]\ntotal error:  0.2\nexample weights:  [[0.4 0.1 0.1 0.1 0.1]]\nclass est:  [[ 1.  1. -1. -1. -1.]]\nagg class est:  [[ 0.40546511  1.79175947 -1.79175947 -1.79175947 -0.40546511]]\ntotal error:  0.2\nexample weights:  [[0.16666667 0.04166667 0.04166667 0.04166667 0.375     ]]\nclass est:  [[1. 1. 1. 1. 1.]]\nagg class est:  [[ 1.60441274  2.99070711 -0.59281183 -0.59281183  0.79348253]]\ntotal error:  0.0\n"
     ]
    }
   ],
   "source": [
    "classifier_array = ada_boost.ada_boost_decision_stump(dat_mat, class_labels, 9)"
   ]
  },
  {
   "cell_type": "code",
   "execution_count": 6,
   "metadata": {},
   "outputs": [
    {
     "name": "stdout",
     "output_type": "stream",
     "text": [
      "[{'dim': 0, 'thres': 1.3, 'ineq': 'lt', 'alpha': 0.6931471805599453}, {'dim': 1, 'thres': 1.0, 'ineq': 'lt', 'alpha': 1.0986122886681098}, {'dim': 0, 'thres': 0.9, 'ineq': 'lt', 'alpha': 1.1989476363991851}]\n"
     ]
    }
   ],
   "source": [
    "print(classifier_array)"
   ]
  },
  {
   "cell_type": "code",
   "execution_count": 11,
   "metadata": {},
   "outputs": [
    {
     "name": "stdout",
     "output_type": "stream",
     "text": [
      "[[ 0.69314718]\n [-0.69314718]]\n[[ 1.79175947]\n [-1.79175947]]\n[[ 2.99070711]\n [-2.99070711]]\n"
     ]
    },
    {
     "data": {
      "text/plain": [
       "matrix([[ 1.],\n        [-1.]])"
      ]
     },
     "execution_count": 11,
     "metadata": {},
     "output_type": "execute_result"
    }
   ],
   "source": [
    "import importlib\n",
    "importlib.reload(ada_boost)\n",
    "\n",
    "dat_arr, label_arr = ada_boost.load_simple_data()\n",
    "classifier_arr = ada_boost.ada_boost_decision_stump(dat_arr, label_arr, 30)\n",
    "ada_boost.ada_classify([[5, 5], [0, 0]], classifier_arr)"
   ]
  },
  {
   "cell_type": "code",
   "execution_count": 29,
   "metadata": {
    "collapsed": false
   },
   "outputs": [
    {
     "name": "stdout",
     "output_type": "stream",
     "text": [
      "total error:  0.2842809364548495\ntotal error:  0.2842809364548495\ntotal error:  0.2408026755852843\ntotal error:  0.24749163879598662\ntotal error:  0.24749163879598662\ntotal error:  0.24414715719063546\n"
     ]
    },
    {
     "name": "stdout",
     "output_type": "stream",
     "text": [
      "total error:  0.23411371237458195\ntotal error:  0.23076923076923078\ntotal error:  0.22742474916387959\ntotal error:  0.23411371237458195\n[{'dim': 9, 'thresh': 3.0, 'ineq': 'gt', 'alpha': 0.4616623792657674}, {'dim': 17, 'thresh': 52.5, 'ineq': 'gt', 'alpha': 0.3895015169299633}, {'dim': 18, 'thresh': 62.300000000000004, 'ineq': 'lt', 'alpha': 0.3347868848928118}, {'dim': 3, 'thresh': 55.199999999999996, 'ineq': 'gt', 'alpha': 0.2840261041116809}, {'dim': 10, 'thresh': 0.0, 'ineq': 'lt', 'alpha': 0.2313231678687746}, {'dim': 5, 'thresh': 2.0, 'ineq': 'gt', 'alpha': 0.19986987120643232}, {'dim': 12, 'thresh': 1.2, 'ineq': 'lt', 'alpha': 0.169672512933372}, {'dim': 7, 'thresh': 1.2, 'ineq': 'gt', 'alpha': 0.16362899934361827}, {'dim': 4, 'thresh': 28.799999999999997, 'ineq': 'lt', 'alpha': 0.1423752349663521}, {'dim': 5, 'thresh': 0.0, 'ineq': 'lt', 'alpha': 0.13668096074908587}]\n"
     ]
    }
   ],
   "source": [
    "import importlib\n",
    "importlib.reload(ada_boost)\n",
    "\n",
    "dat_arr, label_arr = ada_boost.load_data_set('Boosting/data/horseColicTraining2.txt')\n",
    "classifier_arr = ada_boost.ada_boost_decision_stump(dat_arr, label_arr, 10)\n",
    "print(classifier_arr)"
   ]
  },
  {
   "cell_type": "code",
   "execution_count": 30,
   "metadata": {
    "collapsed": false
   },
   "outputs": [
    {
     "name": "stdout",
     "output_type": "stream",
     "text": [
      "16.0\n"
     ]
    }
   ],
   "source": [
    "import importlib\n",
    "importlib.reload(ada_boost)\n",
    "\n",
    "test_arr, test_label_arr = ada_boost.load_data_set('Boosting/data/horseColicTest2.txt')\n",
    "prediction = ada_boost.ada_classify(test_arr, classifier_arr)\n",
    "\n",
    "err_arr = np.mat(np.ones((67, 1)))\n",
    "print(err_arr[prediction != np.mat(test_label_arr).T].sum())"
   ]
  },
  {
   "cell_type": "code",
   "execution_count": 26,
   "metadata": {},
   "outputs": [
    {
     "data": {
      "text/plain": [
       "(67,)"
      ]
     },
     "execution_count": 26,
     "metadata": {},
     "output_type": "execute_result"
    }
   ],
   "source": [
    "np.shape(test_label_arr)"
   ]
  },
  {
   "cell_type": "code",
   "execution_count": 41,
   "metadata": {
    "collapsed": false
   },
   "outputs": [
    {
     "data": {
      "image/png": "[encoded data removed]",
      "text/plain": [
       "<Figure size 432x288 with 1 Axes>"
      ]
     },
     "metadata": {},
     "output_type": "display_data"
    },
    {
     "name": "stdout",
     "output_type": "stream",
     "text": [
      "the Area Under the Curve is:  0.8949763209211629\n"
     ]
    }
   ],
   "source": [
    "%matplotlib inline \n",
    "import importlib\n",
    "importlib.reload(ada_boost)\n",
    "\n",
    "dat_arr, label_arr = ada_boost.load_data_set('Boosting/data/horseColicTraining2.txt')\n",
    "classifier_arr, agg_class_est = ada_boost.ada_boost_decision_stump(dat_arr, label_arr, 50)\n",
    "ada_boost.plot_roc(agg_class_est.T, label_arr)"
   ]
  },
  {
   "cell_type": "code",
   "execution_count": 38,
   "metadata": {},
   "outputs": [],
   "source": []
  },
  {
   "cell_type": "code",
   "execution_count": null,
   "metadata": {},
   "outputs": [],
   "source": []
  }
 ],
 "metadata": {
  "kernelspec": {
   "display_name": "Python 3",
   "language": "python",
   "name": "python3"
  },
  "language_info": {
   "codemirror_mode": {
    "name": "ipython",
    "version": 3
   },
   "file_extension": ".py",
   "mimetype": "text/x-python",
   "name": "python",
   "nbconvert_exporter": "python",
   "pygments_lexer": "ipython3",
   "version": "3.6.5"
  }
 },
 "nbformat": 4,
 "nbformat_minor": 2
}
